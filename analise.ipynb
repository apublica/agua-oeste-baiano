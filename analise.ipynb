{
  "nbformat": 4,
  "nbformat_minor": 0,
  "metadata": {
    "colab": {
      "name": "Untitled6.ipynb",
      "provenance": []
    },
    "kernelspec": {
      "name": "python3",
      "display_name": "Python 3"
    },
    "language_info": {
      "name": "python"
    }
  },
  "cells": [
    {
      "cell_type": "code",
      "metadata": {
        "id": "BOQDDr4IX3If"
      },
      "source": [
        "import csv"
      ],
      "execution_count": 1,
      "outputs": []
    },
    {
      "cell_type": "code",
      "metadata": {
        "id": "sIwjHoDBX80L"
      },
      "source": [
        "import pandas as pd"
      ],
      "execution_count": 2,
      "outputs": []
    },
    {
      "cell_type": "code",
      "metadata": {
        "id": "RIuoDDI7YIW2"
      },
      "source": [
        "portarias = pd.read_csv(r\"dados_limpos.csv\", sep=\";\", encoding=\"utf-8\", error_bad_lines=False)"
      ],
      "execution_count": 3,
      "outputs": []
    },
    {
      "cell_type": "code",
      "metadata": {
        "colab": {
          "base_uri": "https://localhost:8080/"
        },
        "id": "FCEH3nRaYMO_",
        "outputId": "5cf4a2a5-ac95-4cb9-dd2c-e8021baf792f"
      },
      "source": [
        "portarias.columns #olhando as colunas do dataframe"
      ],
      "execution_count": 4,
      "outputs": [
        {
          "output_type": "execute_result",
          "data": {
            "text/plain": [
              "Index(['PORTARIA', 'ID1', 'TEXTO', 'DATA', 'CAPTAÇÃO', 'RESOLVE', 'BACIA',\n",
              "       'MUNICÍPIO - LIMPO', 'SOMA', 'litros', 'milhões de litros',\n",
              "       'TEXTO VAZÃO', 'LAT', 'LONG', 'VÁLID', 'DOC', 'NOME', 'NOME2', 'GRUPO'],\n",
              "      dtype='object')"
            ]
          },
          "metadata": {},
          "execution_count": 4
        }
      ]
    },
    {
      "cell_type": "code",
      "metadata": {
        "id": "wX0CNhguY5Aa"
      },
      "source": [
        "colunas = portarias.columns.difference(set(['NOME']).union(set(['BACIA'])).union(set({'SOMA'})))\n",
        "tabela = portarias.drop(colunas, axis=1)\n",
        "CONT_OUTORGAS = tabela.pivot_table(\n",
        "    index=['NOME'],\n",
        "    columns=['BACIA'],\n",
        "    values=['SOMA'],\n",
        "    aggfunc={'SOMA': ['count']}\n",
        ")\n"
      ],
      "execution_count": 11,
      "outputs": []
    },
    {
      "cell_type": "code",
      "metadata": {
        "id": "iqDZpGJ8Zo9_"
      },
      "source": [
        "colunas = portarias.columns.difference(set(['NOME']).union(set(['BACIA'])).union(set({'SOMA'})))\n",
        "tabela = portarias.drop(colunas, axis=1)\n",
        "TOTAL_VAZAO = tabela.pivot_table(\n",
        "    index=['NOME'],\n",
        "    columns=['BACIA'],\n",
        "    values=['SOMA'],\n",
        "    aggfunc={'SOMA': ['sum']}\n",
        ")"
      ],
      "execution_count": 17,
      "outputs": []
    },
    {
      "cell_type": "code",
      "metadata": {
        "id": "AJNFMcSAa6yp"
      },
      "source": [
        "CONT_OUTORGAS.to_csv(\"outorgas.csv\", sep=';', encoding='utf-8')\n",
        "TOTAL_VAZAO.to_csv(\"vazao.csv\", sep=';', encoding='utf-8')"
      ],
      "execution_count": 18,
      "outputs": []
    }
  ]
}