{
 "cells": [
  {
   "cell_type": "code",
   "execution_count": null,
   "id": "7b94903c",
   "metadata": {},
   "outputs": [],
   "source": [
    "import pandas as pd\n",
    "import csv"
   ]
  },
  {
   "cell_type": "code",
   "execution_count": null,
   "id": "350d6a0c",
   "metadata": {},
   "outputs": [],
   "source": [
    "portarias = pd.read_csv(r\"portarias.csv\", sep=\";\", encoding=\"utf-8\", error_bad_lines=False)"
   ]
  },
  {
   "cell_type": "code",
   "execution_count": null,
   "id": "add2778c",
   "metadata": {},
   "outputs": [],
   "source": [
    "portarias.columns #olhando as colunas do dataframe"
   ]
  }
 ],
 "metadata": {
  "kernelspec": {
   "display_name": "Python 3",
   "language": "python",
   "name": "python3"
  },
  "language_info": {
   "codemirror_mode": {
    "name": "ipython",
    "version": 3
   },
   "file_extension": ".py",
   "mimetype": "text/x-python",
   "name": "python",
   "nbconvert_exporter": "python",
   "pygments_lexer": "ipython3",
   "version": "3.8.8"
  }
 },
 "nbformat": 4,
 "nbformat_minor": 5
}
